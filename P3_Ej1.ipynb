{
  "nbformat": 4,
  "nbformat_minor": 0,
  "metadata": {
    "colab": {
      "name": "P3_Ej1.ipynb",
      "provenance": [],
      "authorship_tag": "ABX9TyNj4LGQgcDOW9WjcmXL+/4p",
      "include_colab_link": true
    },
    "kernelspec": {
      "name": "python3",
      "display_name": "Python 3"
    },
    "language_info": {
      "name": "python"
    }
  },
  "cells": [
    {
      "cell_type": "markdown",
      "metadata": {
        "id": "view-in-github",
        "colab_type": "text"
      },
      "source": [
        "<a href=\"https://colab.research.google.com/github/denisecammarota/matbio/blob/master/P3_Ej1.ipynb\" target=\"_parent\"><img src=\"https://colab.research.google.com/assets/colab-badge.svg\" alt=\"Open In Colab\"/></a>"
      ]
    },
    {
      "cell_type": "markdown",
      "metadata": {
        "id": "VP5Q8BTbv1jE"
      },
      "source": [
        "# **Práctica 3 - Ejercicio 1**: *Distribución binomial*\n",
        "***Matemática de los Sistemas Biológicos - 2021***\n",
        "\n",
        "**Alumna**: Denise S. Cammarota"
      ]
    },
    {
      "cell_type": "code",
      "metadata": {
        "id": "gVcrx6qLvv-h"
      },
      "source": [
        "#importo librerías que me van a ser útiles en hacer las simulaciones\n",
        "import numpy as np\n",
        "import matplotlib.pyplot as plt\n",
        "from numpy import random\n",
        "from scipy.stats import binom\n",
        "plt.style.use('seaborn')"
      ],
      "execution_count": null,
      "outputs": []
    },
    {
      "cell_type": "markdown",
      "metadata": {
        "id": "GuRGL2QEwHPj"
      },
      "source": [
        "Consideraremos una población de individuos que no se reproducen, y que evolucionan en tiempo discreto. A cada paso de tiempo, cada uno de ellos puede morir con probabilidad $d$. \n",
        "\n",
        "### Cálculo de la distribución de probabilidad \n",
        "\n",
        "Primero, nos piden calcular numéricamente la distrubución de probabilidad de la población $P(x,t)$, para algunos valores de $t$ y de la probabilidad $d$. "
      ]
    },
    {
      "cell_type": "code",
      "metadata": {
        "id": "zxMjMCH2zRAa"
      },
      "source": [
        "def time_evolution(n,d,tf):\n",
        "  #inicializo el vector para la poblacion x(t) desde t=0 hasta t=tf\n",
        "  x = np.zeros(shape=tf+1,dtype=int)\n",
        "  #inicialmente, hay n individuos\n",
        "  x[0] = n \n",
        "  #pasos iteración temporal\n",
        "  for i in range(tf):\n",
        "    #pasos iteración en individuos, veo si se mueren o no\n",
        "    x[i+1] = np.copy(x[i]) #inicialmente, tiene igual que el paso anterior\n",
        "    for j in range(x[i]):\n",
        "      #genero un número random\n",
        "      n_random = random.random()\n",
        "      if (n_random <= d): #si el número es <=d\n",
        "        x[i+1] = x[i+1] - 1 #entonces el individuo muere\n",
        "  return x"
      ],
      "execution_count": null,
      "outputs": []
    },
    {
      "cell_type": "markdown",
      "metadata": {
        "id": "Gps43RvMhKvF"
      },
      "source": [
        "Como ejemplo, para una población de 1000 individuos, corremos la simulación desde $t=0$ hasta $t_f = 50$ con $d = 0.25$, y dibujamos la distribución resultante a $t=10$ a modo de ejemplo de lo que estamos haciendo. "
      ]
    },
    {
      "cell_type": "code",
      "metadata": {
        "id": "sj0l-b5AzQvb"
      },
      "source": [
        "N = 1000 #tamaño de la población, lo dejo fijo en 1000 individuos\n",
        "d = 0.25 #valores de d que utilizamos\n",
        "tf = 50 #tiempo final de la simulación \n",
        "rep = 10000 #cantidad de simulaciones independientes que haremos\n",
        "pop = np.zeros(shape=(rep,tf+1)) #donde guardaremos las simulaciones\n",
        "                                 #hay rep filas, cada una corresponde a una simulación\n",
        "                                 #hay tf+1 columnas, que corresponden a los pasos temporales\n",
        "#hacemos las repeticiones y guardamos los resultados en la matriz rep, para un \n",
        "for i in range(rep):\n",
        "  pop[i,:] = time_evolution(N,d,tf)"
      ],
      "execution_count": null,
      "outputs": []
    },
    {
      "cell_type": "code",
      "metadata": {
        "colab": {
          "base_uri": "https://localhost:8080/",
          "height": 313
        },
        "id": "pvfFcQLN47yR",
        "outputId": "33306a10-2170-4f29-b786-a766938aadb2"
      },
      "source": [
        "print('Distribución de probabilidad $P(n,t)$ para d= '+str(d)+'y t = 10')\n",
        "plt.hist(pop[:,10],density=True)\n",
        "plt.xlabel('n')\n",
        "plt.ylabel('$P(n,t=10)$')"
      ],
      "execution_count": null,
      "outputs": [
        {
          "output_type": "stream",
          "text": [
            "Distribución de probabilidad $P(n,t)$ para d= 0.25y t = 10\n"
          ],
          "name": "stdout"
        },
        {
          "output_type": "execute_result",
          "data": {
            "text/plain": [
              "Text(0, 0.5, '$P(n,t=10)$')"
            ]
          },
          "metadata": {
            "tags": []
          },
          "execution_count": 4
        },
        {
          "output_type": "display_data",
          "data": {
            "image/png": "[encoded data removed]",
            "text/plain": [
              "<Figure size 432x288 with 1 Axes>"
            ]
          },
          "metadata": {
            "tags": [],
            "needs_background": "light"
          }
        }
      ]
    },
    {
      "cell_type": "markdown",
      "metadata": {
        "id": "-p_Q-wcKh2EV"
      },
      "source": [
        "Ahora, lo hacemos para varios valores de $d = {0,0.25,0.5,0.75,1}$ y diferentes valores de $t_f = 0, 10, 20, 30, 40, 50$. Para ello, definimos un valor de $d$, y calculamos la P(x,t) para los tiempos mendionados, a partir de realizar 10000 repeticiones de la dinámica que queremos modelar. Luego, cambiamos la probabilidad $d$ y repetimos este proceso. Para cada distribución, calculamos e imprimimos la media y la desviación estándar correspondientes junto a la misma. "
      ]
    },
    {
      "cell_type": "code",
      "metadata": {
        "colab": {
          "base_uri": "https://localhost:8080/",
          "height": 345
        },
        "id": "-DowRz-Wh3XU",
        "outputId": "20dde0e3-38a6-439f-8b9c-d64c2295369d"
      },
      "source": [
        "d = [0,0.25,0.5,0.75,1]\n",
        "tf = 50\n",
        "N = 1000\n",
        "rep = 10000\n",
        "for j in d:\n",
        "  pop = np.zeros(shape=(rep,tf+1))\n",
        "  for i in range(rep):\n",
        "    pop[i,:] = time_evolution(N,j,tf)\n",
        "  fig, (ax1, ax2, ax3, ax4) = plt.subplots(1, 4,figsize=(20,5))\n",
        "  fig.suptitle('Distribuciones de probabilidad para d = '+str(j)+' y diferentes instantes de tiempo t')\n",
        "  ax1.hist(pop[:,0],density=True,label='$t = 0$  \\n $\\mu$ = '+str(round(np.mean(pop[:,0]),2))+'\\n $\\sigma$ = '+str(round(np.std(pop[:,0]),2)))\n",
        "  ax2.hist(pop[:,1],density=True,label='$t = 1$ \\n $\\mu$ = '+str(round(np.mean(pop[:,1]),2))+'\\n $\\sigma$ = '+str(round(np.std(pop[:,1]),2)))\n",
        "  ax3.hist(pop[:,20],density=True,label='$t = 20$ \\n $\\mu$ = '+str(round(np.mean(pop[:,20]),2))+'\\n $\\sigma$ = '+str(round(np.std(pop[:,20]),2)))\n",
        "  ax4.hist(pop[:,50],density=True,label='$t = 50$ \\n $\\mu$ = '+str(round(np.mean(pop[:,50]),2))+'\\n $\\sigma$ = '+str(round(np.std(pop[:,50]),2)))\n",
        "  fig.tight_layout(pad=3.0)\n",
        "  ax1.legend()\n",
        "  ax2.legend()\n",
        "  ax3.legend()\n",
        "  ax4.legend()\n",
        "  ax1.set_xlabel('$n$')\n",
        "  ax2.set_xlabel('$n$')\n",
        "  ax3.set_xlabel('$n$')\n",
        "  ax4.set_xlabel('$n$')\n",
        "  ax1.set_ylabel('$P(n,0)$')\n",
        "  ax2.set_ylabel('$P(n,1)$')\n",
        "  ax3.set_ylabel('$P(n,20)$')\n",
        "  ax4.set_ylabel('$P(n,50)$')"
      ],
      "execution_count": null,
      "outputs": [
        {
          "output_type": "error",
          "ename": "KeyboardInterrupt",
          "evalue": "ignored",
          "traceback": [
            "\u001b[0;31m---------------------------------------------------------------------------\u001b[0m",
            "\u001b[0;31mKeyboardInterrupt\u001b[0m                         Traceback (most recent call last)",
            "\u001b[0;32m<ipython-input-5-ecf7455db9c2>\u001b[0m in \u001b[0;36m<module>\u001b[0;34m()\u001b[0m\n\u001b[1;32m      6\u001b[0m   \u001b[0mpop\u001b[0m \u001b[0;34m=\u001b[0m \u001b[0mnp\u001b[0m\u001b[0;34m.\u001b[0m\u001b[0mzeros\u001b[0m\u001b[0;34m(\u001b[0m\u001b[0mshape\u001b[0m\u001b[0;34m=\u001b[0m\u001b[0;34m(\u001b[0m\u001b[0mrep\u001b[0m\u001b[0;34m,\u001b[0m\u001b[0mtf\u001b[0m\u001b[0;34m+\u001b[0m\u001b[0;36m1\u001b[0m\u001b[0;34m)\u001b[0m\u001b[0;34m)\u001b[0m\u001b[0;34m\u001b[0m\u001b[0;34m\u001b[0m\u001b[0m\n\u001b[1;32m      7\u001b[0m   \u001b[0;32mfor\u001b[0m \u001b[0mi\u001b[0m \u001b[0;32min\u001b[0m \u001b[0mrange\u001b[0m\u001b[0;34m(\u001b[0m\u001b[0mrep\u001b[0m\u001b[0;34m)\u001b[0m\u001b[0;34m:\u001b[0m\u001b[0;34m\u001b[0m\u001b[0;34m\u001b[0m\u001b[0m\n\u001b[0;32m----> 8\u001b[0;31m     \u001b[0mpop\u001b[0m\u001b[0;34m[\u001b[0m\u001b[0mi\u001b[0m\u001b[0;34m,\u001b[0m\u001b[0;34m:\u001b[0m\u001b[0;34m]\u001b[0m \u001b[0;34m=\u001b[0m \u001b[0mtime_evolution\u001b[0m\u001b[0;34m(\u001b[0m\u001b[0mN\u001b[0m\u001b[0;34m,\u001b[0m\u001b[0mj\u001b[0m\u001b[0;34m,\u001b[0m\u001b[0mtf\u001b[0m\u001b[0;34m)\u001b[0m\u001b[0;34m\u001b[0m\u001b[0;34m\u001b[0m\u001b[0m\n\u001b[0m\u001b[1;32m      9\u001b[0m   \u001b[0mfig\u001b[0m\u001b[0;34m,\u001b[0m \u001b[0;34m(\u001b[0m\u001b[0max1\u001b[0m\u001b[0;34m,\u001b[0m \u001b[0max2\u001b[0m\u001b[0;34m,\u001b[0m \u001b[0max3\u001b[0m\u001b[0;34m,\u001b[0m \u001b[0max4\u001b[0m\u001b[0;34m)\u001b[0m \u001b[0;34m=\u001b[0m \u001b[0mplt\u001b[0m\u001b[0;34m.\u001b[0m\u001b[0msubplots\u001b[0m\u001b[0;34m(\u001b[0m\u001b[0;36m1\u001b[0m\u001b[0;34m,\u001b[0m \u001b[0;36m4\u001b[0m\u001b[0;34m,\u001b[0m\u001b[0mfigsize\u001b[0m\u001b[0;34m=\u001b[0m\u001b[0;34m(\u001b[0m\u001b[0;36m20\u001b[0m\u001b[0;34m,\u001b[0m\u001b[0;36m5\u001b[0m\u001b[0;34m)\u001b[0m\u001b[0;34m)\u001b[0m\u001b[0;34m\u001b[0m\u001b[0;34m\u001b[0m\u001b[0m\n\u001b[1;32m     10\u001b[0m   \u001b[0mfig\u001b[0m\u001b[0;34m.\u001b[0m\u001b[0msuptitle\u001b[0m\u001b[0;34m(\u001b[0m\u001b[0;34m'Distribuciones de probabilidad para d = '\u001b[0m\u001b[0;34m+\u001b[0m\u001b[0mstr\u001b[0m\u001b[0;34m(\u001b[0m\u001b[0mj\u001b[0m\u001b[0;34m)\u001b[0m\u001b[0;34m+\u001b[0m\u001b[0;34m' y diferentes instantes de tiempo t'\u001b[0m\u001b[0;34m)\u001b[0m\u001b[0;34m\u001b[0m\u001b[0;34m\u001b[0m\u001b[0m\n",
            "\u001b[0;32m<ipython-input-2-2d220de377ec>\u001b[0m in \u001b[0;36mtime_evolution\u001b[0;34m(n, d, tf)\u001b[0m\n\u001b[1;32m     10\u001b[0m     \u001b[0;32mfor\u001b[0m \u001b[0mj\u001b[0m \u001b[0;32min\u001b[0m \u001b[0mrange\u001b[0m\u001b[0;34m(\u001b[0m\u001b[0mx\u001b[0m\u001b[0;34m[\u001b[0m\u001b[0mi\u001b[0m\u001b[0;34m]\u001b[0m\u001b[0;34m)\u001b[0m\u001b[0;34m:\u001b[0m\u001b[0;34m\u001b[0m\u001b[0;34m\u001b[0m\u001b[0m\n\u001b[1;32m     11\u001b[0m       \u001b[0;31m#genero un número random\u001b[0m\u001b[0;34m\u001b[0m\u001b[0;34m\u001b[0m\u001b[0;34m\u001b[0m\u001b[0m\n\u001b[0;32m---> 12\u001b[0;31m       \u001b[0mn_random\u001b[0m \u001b[0;34m=\u001b[0m \u001b[0mrandom\u001b[0m\u001b[0;34m.\u001b[0m\u001b[0mrandom\u001b[0m\u001b[0;34m(\u001b[0m\u001b[0;34m)\u001b[0m\u001b[0;34m\u001b[0m\u001b[0;34m\u001b[0m\u001b[0m\n\u001b[0m\u001b[1;32m     13\u001b[0m       \u001b[0;32mif\u001b[0m \u001b[0;34m(\u001b[0m\u001b[0mn_random\u001b[0m \u001b[0;34m<=\u001b[0m \u001b[0md\u001b[0m\u001b[0;34m)\u001b[0m\u001b[0;34m:\u001b[0m \u001b[0;31m#si el número es <=d\u001b[0m\u001b[0;34m\u001b[0m\u001b[0;34m\u001b[0m\u001b[0m\n\u001b[1;32m     14\u001b[0m         \u001b[0mx\u001b[0m\u001b[0;34m[\u001b[0m\u001b[0mi\u001b[0m\u001b[0;34m+\u001b[0m\u001b[0;36m1\u001b[0m\u001b[0;34m]\u001b[0m \u001b[0;34m=\u001b[0m \u001b[0mx\u001b[0m\u001b[0;34m[\u001b[0m\u001b[0mi\u001b[0m\u001b[0;34m+\u001b[0m\u001b[0;36m1\u001b[0m\u001b[0;34m]\u001b[0m \u001b[0;34m-\u001b[0m \u001b[0;36m1\u001b[0m \u001b[0;31m#entonces el individuo muere\u001b[0m\u001b[0;34m\u001b[0m\u001b[0;34m\u001b[0m\u001b[0m\n",
            "\u001b[0;31mKeyboardInterrupt\u001b[0m: "
          ]
        }
      ]
    },
    {
      "cell_type": "markdown",
      "metadata": {
        "id": "Fm0VbhxFyKRR"
      },
      "source": [
        "Observaciones de lo anterior son:\n",
        "- A $t=0$, como corresponde, las distribuciones corresponden a deltas centradas en el número de individuos inicial de la población para todos los valores de $d$.\n",
        "- A $t=1$, se observa que la distribución de probabilidad se asemeja (por lo menos de la simple inspección) a una **distribución binomial**, como es esperable. Lo mismo no sucede para otros tiempos, sino que la forma de la distribución va cambiando hasta que la especie se extingue por la inexistencia de nuevos nacimientos. \n",
        "- Por ello, para $t=50$ observamos que la población está completamente (o casi completamente) extinta.\n",
        "- A tiempos intermedios entre $t=0$ y $t_f$, se observa que hay más individuos en la población cuando los valores de $d$ son menores. Esto es esperable, al ser $d$ la probilidad que tiene un individuo de morir en un paso de la simulación. Si esta es menor, tiene sentido que más tiempo transcurra hasta la extinción de una especie. \n"
      ]
    },
    {
      "cell_type": "markdown",
      "metadata": {
        "id": "8UXv8bWKHGA_"
      },
      "source": [
        "### Comparación con la distribución binomial\n",
        "\n",
        "Deberíamos, con el esquema utilizado, observar una distribución binomial como distribución de probabilidad después del primer paso de la simulación. Observamos esto para un valor fijo de la población y varios valores de $d$. Por un lado, podemos superponer la distribución calculada computacionalmente con la analítica. Adicionalmente, podemos compararlas con sus valores de media y varianza.\n",
        "\n",
        "Recordamos que la distribución binomial tiene la forma:\n",
        "\n",
        "$P(m,k,p) = {m \\choose k} p^k (1-p)^{m-k}$,\n",
        "\n",
        "donde $m$ es la cantidad de veces que se muestrea la probabilidad aleatoria, $k$ es la cantidad de éxitos o veces que se obtiene un resultado determinado, y $p$ es la probabilidad de éxito. En este caso, por como se escribe el enunciado, $p=1-d$, considerando como éxito la supervivencia de individuos de una población.\n",
        "\n",
        "De esta distribución, sabemos que su valor medio $\\mu$ y su desviación estándar $\\sigma$ están dados por:\n",
        "\n",
        "$\\mu = m p$, \n",
        "\n",
        "y \n",
        "\n",
        "$\\sigma = m p (1-p)$.\n",
        "\n",
        "En términos de la nomenclatura de este problema, estos dos valores pueden expresarse como:\n",
        "\n",
        "$\\mu = N (1-d)$\n",
        "\n",
        "y\n",
        "\n",
        "$\\sigma = N d (1-d)$."
      ]
    },
    {
      "cell_type": "code",
      "metadata": {
        "id": "q-aq5lNCKRI4",
        "colab": {
          "base_uri": "https://localhost:8080/",
          "height": 761
        },
        "outputId": "f0fe465a-5a8e-4f9a-9120-aa78aa9e1cbb"
      },
      "source": [
        "d = [0.25,0.5,0.75]\n",
        "tf = 1\n",
        "N = 1000\n",
        "rep = 10000\n",
        "for j in d:\n",
        "  pop = np.zeros(shape=(rep,tf+1))\n",
        "  for i in range(rep):\n",
        "    pop[i,:] = time_evolution(N,j,tf)\n",
        "  plt.hist(pop[:,1],density=True,label='Simulación')\n",
        "  plt.hist(random.binomial(n=N, p=1-j, size=rep),density=True,histtype='step', linewidth=1.5,label='Binomial')\n",
        "  plt.legend()\n",
        "  plt.show()\n"
      ],
      "execution_count": null,
      "outputs": [
        {
          "output_type": "display_data",
          "data": {
            "image/png": "[encoded data removed]",
            "text/plain": [
              "<Figure size 432x288 with 1 Axes>"
            ]
          },
          "metadata": {
            "tags": [],
            "needs_background": "light"
          }
        },
        {
          "output_type": "display_data",
          "data": {
            "image/png": "[encoded data removed]",
            "text/plain": [
              "<Figure size 432x288 with 1 Axes>"
            ]
          },
          "metadata": {
            "tags": [],
            "needs_background": "light"
          }
        },
        {
          "output_type": "display_data",
          "data": {
            "image/png": "[encoded data removed]",
            "text/plain": [
              "<Figure size 432x288 with 1 Axes>"
            ]
          },
          "metadata": {
            "tags": [],
            "needs_background": "light"
          }
        }
      ]
    },
    {
      "cell_type": "code",
      "metadata": {
        "id": "C2lWgwwJn00o"
      },
      "source": [
        ""
      ],
      "execution_count": null,
      "outputs": []
    },
    {
      "cell_type": "code",
      "metadata": {
        "id": "esM81pwhKRWG"
      },
      "source": [
        ""
      ],
      "execution_count": null,
      "outputs": []
    }
  ]
}