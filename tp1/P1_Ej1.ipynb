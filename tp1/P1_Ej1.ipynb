{
  "nbformat": 4,
  "nbformat_minor": 0,
  "metadata": {
    "colab": {
      "name": "P1_Ej1.ipynb",
      "provenance": [],
      "collapsed_sections": [],
      "authorship_tag": "ABX9TyP8mEXOGvnH6G6ihsr2s7Bj",
      "include_colab_link": true
    },
    "kernelspec": {
      "name": "python3",
      "display_name": "Python 3"
    },
    "language_info": {
      "name": "python"
    }
  },
  "cells": [
    {
      "cell_type": "markdown",
      "metadata": {
        "id": "view-in-github",
        "colab_type": "text"
      },
      "source": [
        "<a href=\"https://colab.research.google.com/github/denisecammarota/matbio/blob/master/tp1/P1_Ej1.ipynb\" target=\"_parent\"><img src=\"https://colab.research.google.com/assets/colab-badge.svg\" alt=\"Open In Colab\"/></a>"
      ]
    },
    {
      "cell_type": "markdown",
      "metadata": {
        "id": "_MVxMdHrcdNX"
      },
      "source": [
        "# **Práctica 1 - Ejercicio 1**: *Mapeo de Beverton-Holt*\n",
        "***Matemática de los Sistemas Biológicos - 2021***\n",
        "\n",
        "**Alumna**: Denise S. Cammarota\n"
      ]
    },
    {
      "cell_type": "markdown",
      "metadata": {
        "id": "KtcmW8mxcmRt"
      },
      "source": [
        "En este ejercicio, nos piden estudiar el mapeo de Beverton-Holt, que es de la forma:\n",
        "\n",
        "\\begin{align}\n",
        "n_{t+1} &= \\frac{r n_{t}}{1+ \\frac{r-1}{K} n_{t}} \\tag{1}. \\\\\n",
        "\\end{align}\n",
        "\n",
        "A pesar de ser no lineal, este sistema se puede resolver explícitamente y tiene solución exacta:\n",
        "\n",
        "\\begin{align}\n",
        "n_{t+1} &= \\frac{K n_{0}}{n_{0}+ (K - n_{0}) r^{-t}} \\tag{2}. \\\\\n",
        "\\end{align}\n"
      ]
    },
    {
      "cell_type": "markdown",
      "metadata": {
        "id": "55jxdzDldt2t"
      },
      "source": [
        "## Búsqueda de equilibrios"
      ]
    },
    {
      "cell_type": "markdown",
      "metadata": {
        "id": "xTqn385KMUwJ"
      },
      "source": [
        "Primero, nos piden buscar los equilibrios del sistema. Esto simplemente lo hacemos pidiendo que para los equilibrios $n^{*}$ se cumpla:\n",
        "\n",
        "\\begin{align}\n",
        "n^{*} &= \\frac{r n^{*}}{1+ \\frac{r-1}{K} n^{*}} \\\\\n",
        "\\end{align}\n",
        "\n",
        "Vemos facilmente que $n^{*}_{1} = 0$ es una solución. El otro punto $n^{*}_{2}$ de equilibrio de este mapeo sale entonces como solución de la ecuación:\n",
        "\n",
        "\\begin{align}\n",
        " \\frac{r}{1+ \\frac{r-1}{K} n^{*}_{2}} &= 1, \\\\\n",
        "\\end{align}\n",
        "\n",
        "y resulta ser $n^{*}_{2} = K$. \n",
        "\n",
        "Para resumir, tenemos dos puntos de equilibrios, que son:\n",
        "\n",
        "\\begin{cases}\n",
        "      n^{*}_{1} = 0  \\\\ \n",
        "      n^{*}_{2} = K \\\\\n",
        "    \\end{cases}"
      ]
    },
    {
      "cell_type": "markdown",
      "metadata": {
        "id": "-7qM-KcEz4xg"
      },
      "source": [
        "## Estabilidad de equilibrios "
      ]
    },
    {
      "cell_type": "markdown",
      "metadata": {
        "id": "wbXJBQ7QMbIQ"
      },
      "source": [
        "Para encontrar la estabilidad de los equilibrios, procedemos con el análisis de estabilidad lineal para sistemas dinámicos discretos. Primero, definiremos la función $f(n)$ como:\n",
        "\n",
        "\\begin{align}\n",
        " f(n) &= \\frac{r n}{1+ \\frac{r-1}{K} n}, \\\\\n",
        "\\end{align}\n",
        "\n",
        "y la derivamos con respecto a $n$, de manera que:\n",
        "\n",
        "\\begin{align}\n",
        " f'(n) &= \\frac{r}{\\Big(1+ \\frac{r-1}{K} n\\Big)^2}. \\\\\n",
        "\\end{align}\n",
        "\n",
        "Evaluando esta derivada en el primer punto de equilibrio $n^{*}_{1} = 0$, tenemos que:\n",
        "\n",
        "\\begin{align}\n",
        " |f'(0)| &= |r|. \\\\\n",
        "\\end{align}\n",
        "\n",
        "De manera que si $r<1$, el cero es un equilibrio estable, si $r>1$ es inestable y si $r=1$ es marginalmente estable.\n",
        "\n",
        "En cambio, evaluando $f'(n)$ en el punto de equilibrio $n^{*}_{2} = K$, obtenemos que:\n",
        "\n",
        "\\begin{align}\n",
        " |f'(K)| &= \\frac{1}{|r|}. \\\\\n",
        "\\end{align}\n",
        "\n",
        "Así, si $0<r<1$, este equilibrio es inestable, si $r>1$ es estable y si $r=1$ es marginalmente estable.\n",
        "\n",
        "Resumiendo, tenemos que para los distintos valores de r, que los equilibrios $n^{*}_{1}$ y $n^{*}_{2}$, sus estabilidades son:\n",
        "\n",
        "\\begin{align}\n",
        "n^{*}_{1} &=\n",
        " \\begin{cases}\n",
        "      \\text{estable}  & \\text{si}\\ r<1  \\\\ \n",
        "      \\text{inestable}  & \\text{si}\\ r>1  \\\\\n",
        "      \\text{marginalmente estable}  & \\text{si}\\ r=1  \\\\\n",
        "\\end{cases}\n",
        "\\end{align}\n",
        "\n",
        "y\n",
        "\n",
        "\\begin{align}\n",
        "n^{*}_{2} &=\n",
        " \\begin{cases}\n",
        "      \\text{inestable}  & \\text{si}\\ r<1  \\\\ \n",
        "      \\text{estable}  & \\text{si}\\ r>1  \\\\\n",
        "      \\text{marginalmente estable}  & \\text{si}\\ r=1  \\\\\n",
        "\\end{cases}\n",
        "\\end{align}\n",
        "\n",
        "Tenemos entonces que existe una bifuración en función de la tasa de proliferación $r$, donde $r_{c} = 1$ es el valor crítico de este parámetro. En la celda a continuación, hacemos  el diagrama de bifurcación correspondiente."
      ]
    },
    {
      "cell_type": "code",
      "metadata": {
        "id": "EG0H_8ahdudk",
        "colab": {
          "base_uri": "https://localhost:8080/",
          "height": 370
        },
        "cellView": "form",
        "outputId": "14e573f6-93b5-4c12-a7e2-533a67154720"
      },
      "source": [
        "#@title \n",
        "import numpy as np\n",
        "import matplotlib.pyplot as plt\n",
        "plt.style.use('seaborn')\n",
        "x1 = np.linspace(0,1,100)\n",
        "x2 = np.linspace(1,2,100)\n",
        "y1 = np.zeros(shape = x1.shape) \n",
        "y2 = np.zeros(shape = x1.shape) + 1\n",
        "plt.plot(x1,y1,'r')\n",
        "plt.plot(x2,y1,'--r')\n",
        "plt.plot(x1,y2,'--r')\n",
        "plt.plot(x2,y2,'r')\n",
        "plt.xlabel('$r$',fontsize=16)\n",
        "plt.ylabel('Equilibrios',fontsize=16)\n",
        "plt.scatter(1,0,marker=\"$◐$\", c=\"r\",s=200)\n",
        "plt.scatter(1,1,marker=\"$◑$\", c=\"r\",s=200)\n",
        "y = [0,0.5,1]\n",
        "labels = [0,'','$K$']\n",
        "plt.yticks(y, labels,fontsize=14)\n",
        "plt.xticks(fontsize=14)\n",
        "plt.show()"
      ],
      "execution_count": null,
      "outputs": [
        {
          "output_type": "display_data",
          "data": {
            "image/png": "[encoded data removed]",
            "text/plain": [
              "<Figure size 576x396 with 1 Axes>"
            ]
          },
          "metadata": {
            "tags": []
          }
        }
      ]
    },
    {
      "cell_type": "markdown",
      "metadata": {
        "id": "GbFwa7OL--qI"
      },
      "source": [
        "## Comportamiento del mapeo para diferentes condiciones iniciales"
      ]
    },
    {
      "cell_type": "markdown",
      "metadata": {
        "id": "AKSL9OhlMgP_"
      },
      "source": [
        "\n",
        "Dibujamos algunas trayectorias del sistema para distintos valores de $r$. La primera figura corresponde para $r=2$, mientras que la segunda corresponde a $r=0.5$. Utilizamos $K=1$ en ambos casos, y diferentes condiciones iniciales para ilustrar la estabilidad de los equilibrios. Tenemos entonces que $n^{*}_{1} = 0$ y $n^{*}_{2} = 1$. \n",
        "\n",
        "Primero, para el caso de $r=2$, observamos que tanto 0 como 1 son puntos de equilibrios. Por ello, cuando comenzamos con estos como condiciones iniciales, las trayectorias permanecen constantes. En este caso, el 0 es un equilibrio inestable y el 1 es estable. Por ello, observamos que las trayectorias se alejan del 0 y se acercan al 1, cuando comenzamos con una condición inicial que no constituye un equilibrio. "
      ]
    },
    {
      "cell_type": "code",
      "metadata": {
        "colab": {
          "base_uri": "https://localhost:8080/",
          "height": 369
        },
        "id": "5FfC-m5-_POI",
        "cellView": "form",
        "outputId": "012d9566-b459-41d7-ec4e-5905ed6832b9"
      },
      "source": [
        "#@title \n",
        "import numpy as np\n",
        "import matplotlib.pyplot as plt\n",
        "plt.style.use('seaborn')\n",
        "\n",
        "def sol_ej4(r,K,n0,t):\n",
        "  y = (K*n0)/(n0 + (K-n0)*(r**(-t)))\n",
        "  return y\n",
        "\n",
        "t = np.linspace(0,100,101)\n",
        "r = 2 #para r>1\n",
        "K = 1\n",
        "n0 = [0,0.01,0.5,1,1.5]\n",
        "\n",
        "for i in n0:\n",
        "  n = sol_ej4(r,K,i,t)\n",
        "  plt.plot(t,n,linewidth=3,label='$n_{0}=$ '+str(i))\n",
        "\n",
        "plt.xlabel('$t$',fontsize=16)\n",
        "plt.ylabel('$n_{t}$',fontsize=16)\n",
        "plt.xticks(fontsize=12)\n",
        "plt.yticks(fontsize=12)\n",
        "plt.legend(fontsize=13,loc='best', bbox_to_anchor=(0.5, 0., 0.5, 0.5))\n",
        "plt.show()"
      ],
      "execution_count": null,
      "outputs": [
        {
          "output_type": "display_data",
          "data": {
            "image/png": "[encoded data removed]",
            "text/plain": [
              "<Figure size 576x396 with 1 Axes>"
            ]
          },
          "metadata": {
            "tags": []
          }
        }
      ]
    },
    {
      "cell_type": "markdown",
      "metadata": {
        "id": "GA5s3cWCInIZ"
      },
      "source": [
        "En cambio, para $r=0.5$, las estabilidades de los equilibrios se invierten. Mientras que el 0 es estable, la unidad se torna en un punto inestable. Esto se refleja en el comportamiento de las trayectorias: estas ahora se alejan de la unidad y se acercan al 0. "
      ]
    },
    {
      "cell_type": "code",
      "metadata": {
        "colab": {
          "base_uri": "https://localhost:8080/",
          "height": 369
        },
        "id": "vb_VRjA2CIQw",
        "cellView": "form",
        "outputId": "bba94476-e375-4468-94c1-0a80ae467906"
      },
      "source": [
        "#@title \n",
        "import numpy as np\n",
        "import matplotlib.pyplot as plt\n",
        "plt.style.use('seaborn')\n",
        "\n",
        "def sol_ej4(r,K,n0,t):\n",
        "  y = (K*n0)/(n0 + (K-n0)*(r**(-t)))\n",
        "  return y\n",
        "\n",
        "t = np.linspace(0,100,101)\n",
        "r = 0.5 #para r<1\n",
        "K = 1\n",
        "n0 = [0,0.1,0.5,0.8,1]\n",
        "\n",
        "for i in n0:\n",
        "  n = sol_ej4(r,K,i,t)\n",
        "  plt.plot(t,n,linewidth=3,label='$n_{0}=$ '+str(i))\n",
        "\n",
        "plt.xlabel('$t$',fontsize=16)\n",
        "plt.ylabel('$n_{t}$',fontsize=16)\n",
        "plt.xticks(fontsize=12)\n",
        "plt.yticks(fontsize=12)\n",
        "plt.legend(fontsize=13,loc='best', bbox_to_anchor=(0.5, 0., 0.5, 0.5))\n",
        "plt.show()"
      ],
      "execution_count": null,
      "outputs": [
        {
          "output_type": "display_data",
          "data": {
            "image/png": "[encoded data removed]",
            "text/plain": [
              "<Figure size 576x396 with 1 Axes>"
            ]
          },
          "metadata": {
            "tags": []
          }
        }
      ]
    }
  ]
}