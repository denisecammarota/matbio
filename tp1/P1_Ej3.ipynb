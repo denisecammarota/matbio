{
  "nbformat": 4,
  "nbformat_minor": 0,
  "metadata": {
    "colab": {
      "name": "P1_Ej3.ipynb",
      "provenance": [],
      "collapsed_sections": [],
      "authorship_tag": "ABX9TyMR/pwKE7yaqM/oCBum6CVI",
      "include_colab_link": true
    },
    "kernelspec": {
      "name": "python3",
      "display_name": "Python 3"
    },
    "language_info": {
      "name": "python"
    }
  },
  "cells": [
    {
      "cell_type": "markdown",
      "metadata": {
        "id": "view-in-github",
        "colab_type": "text"
      },
      "source": [
        "<a href=\"https://colab.research.google.com/github/denisecammarota/matbio/blob/master/tp1/P1_Ej3.ipynb\" target=\"_parent\"><img src=\"https://colab.research.google.com/assets/colab-badge.svg\" alt=\"Open In Colab\"/></a>"
      ]
    },
    {
      "cell_type": "markdown",
      "metadata": {
        "id": "LeLrLgm06yr3"
      },
      "source": [
        "# **Práctica 1 - Ejercicio 3**: *Modelo matricial de Leslie*\n",
        "***Matemática de los Sistemas Biológicos - 2021***\n",
        "\n",
        "**Alumna**: Denise S. Cammarota"
      ]
    },
    {
      "cell_type": "markdown",
      "metadata": {
        "id": "wo8BMnae695H"
      },
      "source": [
        "En este ejercicio, nos piden demostrar una propiedad sobre el modelo matricial de Leslie. Recordemos que en clase, llegamos a la siguiente ecuaciones para los autovalores $r$ del modelo de Leslie:\n",
        "\n",
        "\\begin{align}\n",
        "r^{k+1} - (r^k f_{0} + r^{k-1} f_{1} s_{0} + r^{k-2} f_{2} s_{0} s_{1} + ... + f_{k} s_{0} s_{1}...s_{k-1}) &= 0 \\tag{1}. \\\\\n",
        "\\end{align}\n",
        "\n",
        "Por el **criterio de Descartes**, tenemos que hay una sola raíz positiva, a la que llamaremos $r_{1}$; pues el número de raíces positivas es el número de cambios de signo en los coeficientes del polinomio en cuestión. \n",
        "\n",
        "Definamos entonces el polinomio $R(r)$ como en la clase teórica, de manera que:\n",
        "\n",
        "\\begin{align}\n",
        "R(r) &= r^{k+1} - (r^k f_{0} + r^{k-1} f_{1} s_{0} + r^{k-2} f_{2} s_{0} s_{1} + ... + f_{k} s_{0} s_{1}...s_{k-1}) \\tag{2}. \\\\\n",
        "\\end{align}\n",
        "\n",
        "Así el $R$ del enunciado es simplemente la evaluación del polinomio en $1$. Es decir, hemos llamado $R=R(1)$. \n",
        "\n",
        "Con todas estas definiciones, tenemos en claro que nos piden demostrar que $r_{1} > 1 \\iff R<0$\n",
        "\n",
        "**Ida**\n",
        "\n",
        "Demostremos primero la ida. Es decir, queremos probar que si $r_{1} > 1 \\Rightarrow R<0$. \n",
        "\n",
        "Sabemos que nuestra raíz $r_{1}$ es tal que $R(r1) = 0$ y que $r1>0$ por el criterio de Descartes. Supongamos además que $r_{1} > 1$. Sabemos que:\n",
        "\n",
        "*   $R(r_{1}) = 0$\n",
        "*   $R(0) = -f_{k} s_{0} s_{1}...s_{k-1} < 0$ evaluando $R(r)$ en $r=0$\n",
        "\n",
        "Como $r_{1} > 1$ y es la única raíz positiva de este polinomio, entonces $R = R(1) < 0$. Si no lo fuera, esto implicaría la existencia de otra raíz positiva menor a 1, lo cual contradicería el hecho de que $r_{1}$ es la única raíz positiva y es mayor a 1. \n",
        "\n",
        "**Vuelta**\n",
        "\n",
        "Demostramos entonces la vuelta. Es decir, suponemos que $R(1) < 0$. \n",
        "Como vimos antes, $R(0)<0$. Con lo cual, como hay una única raíz positiva para este polinomio, el cambio de signo del mismo en los positivos no ocurre entre 0 y 1. Por lo tanto, la única raíz $r_{1} > 0$, ha de ser también $r_{1} > 1$, que es lo que queríamos demostrar. "
      ]
    }
  ]
}