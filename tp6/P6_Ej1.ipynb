{
  "nbformat": 4,
  "nbformat_minor": 0,
  "metadata": {
    "colab": {
      "name": "P6_Ej1.ipynb",
      "provenance": [],
      "authorship_tag": "ABX9TyMq9iwTVC4NElYhSgiV7NWf",
      "include_colab_link": true
    },
    "kernelspec": {
      "name": "python3",
      "display_name": "Python 3"
    },
    "language_info": {
      "name": "python"
    }
  },
  "cells": [
    {
      "cell_type": "markdown",
      "metadata": {
        "id": "view-in-github",
        "colab_type": "text"
      },
      "source": [
        "<a href=\"https://colab.research.google.com/github/denisecammarota/matbio/blob/master/tp6/P6_Ej1.ipynb\" target=\"_parent\"><img src=\"https://colab.research.google.com/assets/colab-badge.svg\" alt=\"Open In Colab\"/></a>"
      ]
    },
    {
      "cell_type": "markdown",
      "metadata": {
        "id": "mOTOVDwJZbTn"
      },
      "source": [
        "# **Práctica 6 - Ejercicio 1**: *Juegos de halcones y palomas extendidos*\n",
        "***Matemática de los Sistemas Biológicos - 2021***\n",
        "\n",
        "**Alumna**: Denise S. Cammarota"
      ]
    },
    {
      "cell_type": "markdown",
      "metadata": {
        "id": "ByLWtFgJdvo8"
      },
      "source": [
        "En este ejercicio, nos piden analizar dos juegos de halcones y palomas extendidos, mediante la dinámica del replicador. También, nos piden representar las órbitas sobre el simplex. "
      ]
    },
    {
      "cell_type": "code",
      "metadata": {
        "colab": {
          "base_uri": "https://localhost:8080/"
        },
        "cellView": "form",
        "id": "_H_urlYhjBKQ",
        "outputId": "899a6a55-ee1a-49cb-a196-f447316138b6"
      },
      "source": [
        "#@title \n",
        "!pip install egtplot"
      ],
      "execution_count": 2,
      "outputs": [
        {
          "output_type": "stream",
          "text": [
            "Collecting egtplot\n",
            "  Downloading https://files.pythonhosted.org/packages/5f/ef/e142f3675c69b83185970e0d3f49f6616dffce9208677789188b54e008e6/egtplot-0.5.tar.gz\n",
            "Requirement already satisfied: matplotlib in /usr/local/lib/python3.7/dist-packages (from egtplot) (3.2.2)\n",
            "Requirement already satisfied: scipy in /usr/local/lib/python3.7/dist-packages (from egtplot) (1.4.1)\n",
            "Requirement already satisfied: shapely in /usr/local/lib/python3.7/dist-packages (from egtplot) (1.7.1)\n",
            "Requirement already satisfied: imageio in /usr/local/lib/python3.7/dist-packages (from egtplot) (2.4.1)\n",
            "Requirement already satisfied: moviepy in /usr/local/lib/python3.7/dist-packages (from egtplot) (0.2.3.5)\n",
            "Requirement already satisfied: tqdm in /usr/local/lib/python3.7/dist-packages (from egtplot) (4.41.1)\n",
            "Requirement already satisfied: requests in /usr/local/lib/python3.7/dist-packages (from egtplot) (2.23.0)\n",
            "Requirement already satisfied: numpy>=1.11 in /usr/local/lib/python3.7/dist-packages (from matplotlib->egtplot) (1.19.5)\n",
            "Requirement already satisfied: cycler>=0.10 in /usr/local/lib/python3.7/dist-packages (from matplotlib->egtplot) (0.10.0)\n",
            "Requirement already satisfied: pyparsing!=2.0.4,!=2.1.2,!=2.1.6,>=2.0.1 in /usr/local/lib/python3.7/dist-packages (from matplotlib->egtplot) (2.4.7)\n",
            "Requirement already satisfied: python-dateutil>=2.1 in /usr/local/lib/python3.7/dist-packages (from matplotlib->egtplot) (2.8.1)\n",
            "Requirement already satisfied: kiwisolver>=1.0.1 in /usr/local/lib/python3.7/dist-packages (from matplotlib->egtplot) (1.3.1)\n",
            "Requirement already satisfied: pillow in /usr/local/lib/python3.7/dist-packages (from imageio->egtplot) (7.1.2)\n",
            "Requirement already satisfied: decorator<5.0,>=4.0.2 in /usr/local/lib/python3.7/dist-packages (from moviepy->egtplot) (4.4.2)\n",
            "Requirement already satisfied: urllib3!=1.25.0,!=1.25.1,<1.26,>=1.21.1 in /usr/local/lib/python3.7/dist-packages (from requests->egtplot) (1.24.3)\n",
            "Requirement already satisfied: certifi>=2017.4.17 in /usr/local/lib/python3.7/dist-packages (from requests->egtplot) (2020.12.5)\n",
            "Requirement already satisfied: chardet<4,>=3.0.2 in /usr/local/lib/python3.7/dist-packages (from requests->egtplot) (3.0.4)\n",
            "Requirement already satisfied: idna<3,>=2.5 in /usr/local/lib/python3.7/dist-packages (from requests->egtplot) (2.10)\n",
            "Requirement already satisfied: six in /usr/local/lib/python3.7/dist-packages (from cycler>=0.10->matplotlib->egtplot) (1.15.0)\n",
            "Building wheels for collected packages: egtplot\n",
            "  Building wheel for egtplot (setup.py) ... \u001b[?25l\u001b[?25hdone\n",
            "  Created wheel for egtplot: filename=egtplot-0.5-cp37-none-any.whl size=11990 sha256=b7002e4677ab4b5ebd2b7e349a61243743871db3dd6c10e9b8becd647f20e5b9\n",
            "  Stored in directory: /root/.cache/pip/wheels/f4/29/93/a82fd4c377089486042ee57fb40585494c0917fec21ce5de32\n",
            "Successfully built egtplot\n",
            "Installing collected packages: egtplot\n",
            "Successfully installed egtplot-0.5\n"
          ],
          "name": "stdout"
        }
      ]
    },
    {
      "cell_type": "markdown",
      "metadata": {
        "id": "LIhMWZeBZ9Ae"
      },
      "source": [
        "## *Halcones, palomas y bravucones*"
      ]
    },
    {
      "cell_type": "markdown",
      "metadata": {
        "id": "qOvh29DJKlV1"
      },
      "source": [
        "El primer juego extendido consiste en halcones, palomas y bravucones. Está dado por la siguiente matriz de payoff:\n",
        "\n",
        "\\begin{align*}\n",
        "A = \n",
        "\\begin{pmatrix}\n",
        "\\frac{G-C}{2} & G & G\\\\\n",
        "0 & \\frac{G}{2} & 0 \\\\\n",
        "0 & \\frac{G}{2} & \\frac{G}{2}&\\\\\n",
        "\\end{pmatrix}\n",
        "\\end{align*}\n",
        "\n",
        " \n",
        "Llamaremos $\\vec{x} = (x,y,z)$ a las proporciones de halcones, palomas y bravucones en el sistema, respectivamnente. A partir de esto y con la matriz de payoff, podemos calcular las ecuaciones del replicador. Primero, calcularemos los payoff para cada una de las estrategias. Hacemos esto a continuación:\n",
        "\n",
        "\\begin{align*}\n",
        "f_{x} = (1,0,0) \\: A \\: (x,y,z)^{t} =  \\Big(\\frac{G-C}{2}\\Big) x + G y + G z  \n",
        "\\\\\n",
        "f_{y} = (0,1,0) \\: A \\: (x,y,z)^{t} =  \\frac{G}{2} y  \n",
        "\\\\\n",
        "f_{z} = (0,0,1) \\: A \\: (x,y,z)^{t} =  G y + \\frac{G}{2} z \n",
        "\\end{align*}\n",
        "\n",
        "Luego, necesitamos calcular el payoff medio $\\bar{f}$ a partir de estas cantidades. Como ya sabemos, este se calcula de la siguiente manera:\n",
        "\n",
        "\\begin{align*}\n",
        "\\bar{f} = x f_{x} +y f_{y} + z f_{z}  \n",
        "\\end{align*}\n",
        "\n",
        "Si tenemos en cuenta que también $x + y + z = 1$, encontramos que el payoff medio, en función de $x$ e $y$, resulta ser:\n",
        "\n",
        "\\begin{align*}\n",
        "\\bar{f} = -\\frac{C}{2} x^{2} + \\frac{G}{2} \n",
        "\\end{align*}\n",
        "\n",
        "Con todo esto, podemos calcular las ecuaciones del replicador para $x$ y para $y$ resultan ser:\n",
        "\n",
        "\\begin{align*}\n",
        "\\dot{x} = x(f_{x}-\\bar{f}) = \\frac{x}{2} (G - (G-C) x + C x^2)  \n",
        "\\\\\n",
        "\\dot{y} = y(f_{y}-\\bar{f}) =  \\frac{y}{2} (G y + C x^2 - G )\n",
        "\\\\\n",
        "\\end{align*}"
      ]
    },
    {
      "cell_type": "markdown",
      "metadata": {
        "id": "Yfe3dTgxKYmt"
      },
      "source": [
        "### **Equilibrios del sistema** "
      ]
    },
    {
      "cell_type": "markdown",
      "metadata": {
        "id": "-RcZccMgKpX8"
      },
      "source": [
        "Podemos encontrar los equilibrios de este sistema igualando las dos ecuaciones del replicador a cero simultáneamente. Después de un poco de álgebra, podemos hallar que los equilibrios son los siguientes:\n",
        "\n",
        "- $P_{1} = (0,0,1)$ (solo bravucones)\n",
        "- $P_{2} = (0,1,0)$ (solo palomas)\n",
        "- $P_{3} = (1,0,0)$ (solo halcones)\n",
        "- $P_{4} = (\\frac{G}{C},0,1-\\frac{G}{C}) $ (halcones y bravucones, si $G<C$)\n",
        "- $P_{5} = (\\frac{G}{C},1-\\frac{G}{C},0) $ (halcones y palomas, si $G<C$)\n",
        "\n",
        "Observamos que recuperamos los equilibrios del problema de halcones y palomas tradicional, como es esperable. "
      ]
    },
    {
      "cell_type": "markdown",
      "metadata": {
        "id": "ELn94aeeKcmN"
      },
      "source": [
        "### **Estabilidad de los equilibrios** "
      ]
    },
    {
      "cell_type": "markdown",
      "metadata": {
        "id": "ak9B7-DJKrGF"
      },
      "source": [
        "Para encontrar la estabilidad de los equilibrios, vamos a definir las funciones $f$ y $g$ a partir de las ecuaciones del replicador como: \n",
        "\n",
        "\\begin{align*}\n",
        "\\dot{x} = x(f_{x}-\\bar{f}) = \\frac{x}{2} (G - (G-C) x + C x^2) = f(x,y) \n",
        "\\\\\n",
        "\\dot{y} = y(f_{y}-\\bar{f}) =  \\frac{y}{2} (G y + C x^2 - G ) = g(x,y )\n",
        "\\\\\n",
        "\\end{align*}\n",
        "\n",
        "Entonces, procedemos a calcular las derivadas para computar la matriz jacobiana y poder evaluarla en los puntos de equilibrio. Para el análisis siguiente, supondremos que $C>G$. \n",
        "\n",
        "\\begin{align*}\n",
        "\\partial_{x} f = \\frac{G}{2} + \\frac{3}{2} C x^2 - (G+C) x \\\\\n",
        "\\partial_{y} f = 0 \\\\\n",
        "\\partial_{x} g = C x y\\\\\n",
        "\\partial_{y} g = G y + \\frac{C}{2} x^2 - \\frac{G}{2}\\\\\n",
        "\\end{align*}\n",
        "\n",
        "\n",
        "- **Equilibrio $P_{1} = (0,0,1)$**:\n",
        "\n",
        "\\begin{align*}\n",
        "J(P_{1}) = \n",
        "\\begin{pmatrix}\n",
        "\\frac{C-G}{2} & 0\\\\\n",
        "0 & \\frac{C-G}{2} \\\\\n",
        "\\end{pmatrix} \\rightarrow \\textbf{inestable}\n",
        "\\end{align*}\n",
        "\n",
        "- **Equilibrio $P_{2} = (0,1,0)$**:\n",
        "\n",
        "\\begin{align*}\n",
        "J(P_{2}) = \n",
        "\\begin{pmatrix}\n",
        "\\frac{G}{2} & 0\\\\\n",
        "0 & \\frac{G}{2} \\\\\n",
        "\\end{pmatrix} \\rightarrow \\textbf{inestable}\n",
        "\\end{align*}\n",
        "\n",
        "- **Equilibrio $P_{3} = (1,0,0)$**:\n",
        "\n",
        "\\begin{align*}\n",
        "J(P_{3}) = \n",
        "\\begin{pmatrix}\n",
        "\\frac{G}{2} & 0\\\\\n",
        "0 & -\\frac{G}{2} \\\\\n",
        "\\end{pmatrix} \\rightarrow \\textbf{saddle}\n",
        "\\end{align*}\n",
        "\n",
        "- **Equilibrio $P_{4} = (\\frac{G}{C},0,1-\\frac{G}{C})$**:\n",
        "\n",
        "\\begin{align*}\n",
        "J(P_{4}) = \n",
        "\\begin{pmatrix}\n",
        "\\frac{G}{2}(\\frac{G}{C} - 1) & 0\\\\\n",
        "0 & \\frac{G}{2}(\\frac{G}{C} - 1) \\\\\n",
        "\\end{pmatrix} \\rightarrow \\textbf{estable}\n",
        "\\end{align*}\n",
        "\n",
        "$\\:\\: \\: \\: \\: \\:$ Como ya sabemos, un equilibrio estable de las ecuaciones del replicador constituye una **estrategia evolutivamente estable** (EES). \n",
        "\n",
        "\n",
        "- **Equilibrio $P_{5} = (\\frac{G}{C},1-\\frac{G}{C},0)$**:\n",
        "\n",
        "\\begin{align*}\n",
        "J(P_{5}) = \n",
        "\\begin{pmatrix}\n",
        "\\frac{G}{2}(\\frac{G}{C} - 1) & 0\\\\\n",
        "0 & -\\frac{G}{2}(\\frac{G}{C} - 1) \\\\\n",
        "\\end{pmatrix} \\rightarrow \\textbf{saddle}\n",
        "\\end{align*}\n",
        "\n"
      ]
    },
    {
      "cell_type": "markdown",
      "metadata": {
        "id": "YZ4rR1VDjRvT"
      },
      "source": [
        "### **Representación en el Simplex** "
      ]
    },
    {
      "cell_type": "markdown",
      "metadata": {
        "id": "CGQ_eKDSjZMO"
      },
      "source": [
        "Para la representación en el simplex, utilizaremos la librería egplot ([ref paper](https://www.biorxiv.org/content/10.1101/300004v2.full.pdf), [ref github](https://github.com/mirzaevinom/egtplot)), que nos permite graficar simplex para juegos evolutivos de tres estrategias. Lo hemos instalado previamente, al comienzo de esta notebook, como vista en Google Colaboratory. Elegiremos valores de $C = 2$ y $G = 1$, tal que $C > G$. Del simplex, tenemos resultados consistentes con el análisis teórico realizado previamente. También, podemos ver que bajo estas condiciones sobre $G$ y $C$, el equilibrio del juego de halcones y palomas es estable. "
      ]
    },
    {
      "cell_type": "code",
      "metadata": {
        "colab": {
          "base_uri": "https://localhost:8080/",
          "height": 378
        },
        "cellView": "form",
        "id": "pFcFXC_WkOqL",
        "outputId": "3c3f765f-e9ff-4b9e-8f1f-d06ec500f8fc"
      },
      "source": [
        "#@title \n",
        "from egtplot import plot_static\n",
        "C = 2\n",
        "G = 1\n",
        "payoff_entries = [[-0.5], [1], [1], [0], [0.5], [0], [0], [1], [0.5]]\n",
        "labels = ['Halcones (x)','Palomas (y)','Bravucones (z)']\n",
        "simplex = plot_static(payoff_entries, background=False,vert_labels=labels,display_parameters=False)"
      ],
      "execution_count": 14,
      "outputs": [
        {
          "output_type": "stream",
          "text": [
            "1it [00:00,  2.91it/s]\n"
          ],
          "name": "stderr"
        },
        {
          "output_type": "display_data",
          "data": {
            "image/png": "[encoded data removed]",
            "text/plain": [
              "<Figure size 432x432 with 1 Axes>"
            ]
          },
          "metadata": {
            "tags": [],
            "needs_background": "light"
          }
        }
      ]
    },
    {
      "cell_type": "markdown",
      "metadata": {
        "id": "eJnUCoIXlegR"
      },
      "source": [
        "## *Halcones, palomas y vengativos*"
      ]
    },
    {
      "cell_type": "markdown",
      "metadata": {
        "id": "RXoBkHLUQEr6"
      },
      "source": [
        "El segundo juego extendido consiste en halcones, palomas y vengativos. Está dado por la siguiente matriz de payoff:\n",
        " \n",
        "\\begin{align*}\n",
        "B = \n",
        "\\begin{pmatrix}\n",
        "\\frac{G-C}{2} & G & \\frac{G-C}{2}\\\\\n",
        "0 & \\frac{G}{2} & \\frac{G}{2}\\\\\n",
        "\\frac{G-C}{2}  & \\frac{G}{2} & \\frac{G}{2}&\\\\\n",
        "\\end{pmatrix}\n",
        "\\tag{2}\n",
        "\\end{align*}\n",
        "\n",
        "Como en el ejercicio anterior, definiremos el vector $\\vec{x} = (x,y,z)$ con las proporciones de halcones, palomas y vengativos en el sistema. Primero, calculamos los payoff de cada una de las estrategias, que resultan ser:\n",
        "\n",
        "\\begin{align*}\n",
        "f_{x} = (1,0,0) \\: B \\: (x,y,z)^{t} =  \\Big(\\frac{G-C}{2}\\Big) (x+z) + G y \n",
        "\\\\\n",
        "f_{y} = (0,1,0) \\: B \\: (x,y,z)^{t} =  \\frac{G}{2} (y+z)\n",
        "\\\\\n",
        "f_{z} = (0,0,1) \\: B \\: (x,y,z)^{t} =  \\Big(\\frac{G-C}{2}\\Big) x + \\frac{G}{2} (y+z)\n",
        "\\end{align*}\n",
        "\n",
        "A partir de esto y teniendo en cuenta que $x+y+z = 1$, podemos calcular el payoff medio. En este caso, decidimos calcularlo en función de $x$ y $z$, de manera tal que:\n",
        "\n",
        "\\begin{align*}\n",
        "\\bar{f} = \\frac{G}{2} - C x z - \\frac{C}{2} x^2\n",
        "\\end{align*}\n",
        "\n",
        "Finalmente, las ecuaciones del replicador para $x$ y $z$ resultan ser:\n",
        "\n",
        "\\begin{align*}\n",
        "\\dot{x} = x \\Big(\\frac{C}{2} x^2 + Cxz + \\frac{G}{2} - \\frac{(G+C)}{2} (x+z) \\Big) \\\\\n",
        "\\dot{z} = z \\Big( \\frac{C}{2} x^2 + Cxz - \\frac{C}{2} x \\Big)\n",
        "\\end{align*}"
      ]
    },
    {
      "cell_type": "markdown",
      "metadata": {
        "id": "pqJMmB1BVxDX"
      },
      "source": [
        "### **Equilibrios del sistema** "
      ]
    },
    {
      "cell_type": "markdown",
      "metadata": {
        "id": "byPNufueXXkI"
      },
      "source": [
        "\n",
        "Para hallar los equilibrios, igualamos las dos ecuaciones del replicador a cero al mismo tiempo. Con un poco de álgebra, podemos encontrar que los equilibrios del sistema son:\n",
        "\n",
        "- $P_{1} = (0,1,0)$ (solo palomas)\n",
        "- $P_{2} = (0,1-z^{*},z^{*})$, para todo $z^{*}$ entre 0 y 1. (palomas y vengativos)\n",
        "- $P_{3} = (\\frac{G}{C}, 1 - \\frac{G}{C}, 0)$ (halcones y palomas, si C > G )\n",
        "- $P_{4} = (1,0,0)$ (solo halcones) \n",
        "\n",
        "Observamos que recuperamos los equilibrios del juego de halcones y palomas, como es razonable esperar. "
      ]
    },
    {
      "cell_type": "markdown",
      "metadata": {
        "id": "gY_M0FrSXTlI"
      },
      "source": [
        "### **Estabilidad de los equilibrios** "
      ]
    },
    {
      "cell_type": "markdown",
      "metadata": {
        "id": "pguTA1IGXZ_Y"
      },
      "source": [
        "Para encontrar la estabilidad de los equilibrios, definimos nuevas funciones $f$ y $g$ usando las ecuaciones del replicador como:\n",
        "\n",
        "\\begin{align*}\n",
        "\\dot{x} = x \\Big(\\frac{C}{2} x^2 + Cxz + \\frac{G}{2} - \\frac{(G+C)}{2} (x+z) \\Big) = f(x,z) \\\\\n",
        "\\dot{z} = z \\Big( \\frac{C}{2} x^2 + Cxz - \\frac{C}{2} x \\Big) = g(x,z)\n",
        "\\end{align*}\n",
        "\n",
        "A continuación, debemos de calcular las derivadas parciales de estas funciones en función de $x$ y $z$. El objetivo de esto es luego poder construir la matriz jacobiana, evaluada en cada uno de los puntos de equilibrio para ser capaces de evaluar su estabilidad. Tenemos entonces que: \n",
        "\n",
        "\\begin{align*}\n",
        "\\partial_{x} f = \\frac{3}{2}C x^2 + 2C x z + \\frac{G}{2} - \\frac{(G+C)}{2} z - (G+C) x\\\\\n",
        "\\partial_{z} f = C x^2 - \\frac{G+c}{2} x \\\\\n",
        "\\partial_{x} g = z\\Big(C(x+z) - \\frac{C}{2}\\Big)\\\\\n",
        "\\partial_{z} g = \\frac{C}{2} x^2 + 2 C z - \\frac{C}{2} x\\\\\n",
        "\\end{align*}\n",
        "\n",
        "Al igual que en el caso anterior, supondremos que $C>G$. \n",
        "\n",
        "- **Equilibrio $P_{1} = (0,1,0)$**\n",
        "\n",
        "\\begin{align*}\n",
        "J(P_{1}) = \n",
        "\\begin{pmatrix}\n",
        "\\frac{C-G}{2} & 0\\\\\n",
        "0 & 0 \\\\\n",
        "\\end{pmatrix} \\rightarrow \\textbf{acumulación de inestables}\n",
        "\\end{align*}\n",
        "\n",
        "\n",
        "- **Equilibrio $P_{2} = (0,1-z^{*},z^{*})$**\n",
        "\n",
        "\\begin{align*}\n",
        "J(P_{4}) = \n",
        "\\begin{pmatrix}\n",
        "\\frac{G}{2} - \\frac{(G+C)}{2} z^{*}& 0\\\\\n",
        "* & 2Cz^{*}\\\\\n",
        "\\end{pmatrix} \\rightarrow \\textbf{acumulación de inestables}\n",
        "\\end{align*}\n",
        "\n",
        "Uno de los autovalores $\\lambda_{2} = 2Cz^{*}$ es positivo para todo valor de $z^{*}$. En cuanto al otro, es positivo si $1> z^{*} (1 + (C/G))$. En ese caso, se trata de un punto inestable. En caso contrario, estamos en presencia de un saddle. Es decir, tenemos distintas situaciones dependiendo del valor de $C/G$ y de $z^{*}$ para el punto de equilibrio en cuestión. Si observamos bien, este equilibrio incluye al anterior, tomando $z^{*} = 0$. \n",
        "\n",
        "\n",
        "- **Equilibrio $P_{3} = (\\frac{G}{C},1-\\frac{G}{C},0)$**\n",
        "\n",
        "\\begin{align*}\n",
        "J(P_{3}) = \n",
        "\\begin{pmatrix}\n",
        "\\frac{G}{2}\\Big(\\frac{G}{C} - 1\\Big) & *\\\\\n",
        "0 & \\frac{G}{2}\\Big(\\frac{G}{C} - 1\\Big) \\\\\n",
        "\\end{pmatrix} \\rightarrow \\textbf{estable}\n",
        "\\end{align*}\n",
        "\n",
        "- **Equilibrio $P_{4} = (1,0,0)$**\n",
        "\n",
        "\\begin{align*}\n",
        "J(P_{4}) = \n",
        "\\begin{pmatrix}\n",
        "\\frac{C-G}{2} & *\\\\\n",
        "0 & 0\\\\\n",
        "\\end{pmatrix} \\rightarrow \\textbf{acumulación de inestables}\n",
        "\\end{align*}"
      ]
    },
    {
      "cell_type": "markdown",
      "metadata": {
        "id": "59QJzEuWolzU"
      },
      "source": [
        "A continuación, graficamos el simplex utilizando nuevamente la librería egplot de Pyhton. Elegimos nuevamente los valores $C = 2$ y $G = 1$. Lo observado en este gráfico es consistente con lo calculado anteriormente. En particular, observamos la estabilidad del equilibrio del juego de halcones y palomas, bajo la condición de que $C > G$. "
      ]
    },
    {
      "cell_type": "code",
      "metadata": {
        "colab": {
          "base_uri": "https://localhost:8080/",
          "height": 378
        },
        "cellView": "form",
        "id": "40Ranih9oqG1",
        "outputId": "e7c38f08-2f30-4981-ecf2-f4adcd2345cb"
      },
      "source": [
        "#@title \n",
        "from egtplot import plot_static\n",
        "C = 2\n",
        "G = 1\n",
        "payoff_entries = [[-0.5], [1], [-0.5], [0], [0.5], [0.5], [-0.5], [0.5], [0.5]]\n",
        "labels = ['Halcones (x)','Palomas (y)','Vengativos (z)']\n",
        "simplex = plot_static(payoff_entries, background=False,vert_labels=labels,display_parameters=False)"
      ],
      "execution_count": 15,
      "outputs": [
        {
          "output_type": "stream",
          "text": [
            "1it [00:00,  5.84it/s]\n"
          ],
          "name": "stderr"
        },
        {
          "output_type": "display_data",
          "data": {
            "image/png": "[encoded data removed]",
            "text/plain": [
              "<Figure size 432x432 with 1 Axes>"
            ]
          },
          "metadata": {
            "tags": [],
            "needs_background": "light"
          }
        }
      ]
    }
  ]
}