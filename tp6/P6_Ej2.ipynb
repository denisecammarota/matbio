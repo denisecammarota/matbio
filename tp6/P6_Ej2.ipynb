{
  "nbformat": 4,
  "nbformat_minor": 0,
  "metadata": {
    "colab": {
      "name": "P6_Ej2.ipynb",
      "provenance": [],
      "authorship_tag": "ABX9TyMW3vWD3B2XbK7ue++n2E6U",
      "include_colab_link": true
    },
    "kernelspec": {
      "name": "python3",
      "display_name": "Python 3"
    },
    "language_info": {
      "name": "python"
    }
  },
  "cells": [
    {
      "cell_type": "markdown",
      "metadata": {
        "id": "view-in-github",
        "colab_type": "text"
      },
      "source": [
        "<a href=\"https://colab.research.google.com/github/denisecammarota/matbio/blob/master/tp6/P6_Ej2.ipynb\" target=\"_parent\"><img src=\"https://colab.research.google.com/assets/colab-badge.svg\" alt=\"Open In Colab\"/></a>"
      ]
    },
    {
      "cell_type": "markdown",
      "metadata": {
        "id": "38GomO9alMyC"
      },
      "source": [
        "# **Práctica 6 - Ejercicio 2**: *Dilema del prisionero extendido*\n",
        "***Matemática de los Sistemas Biológicos - 2021***\n",
        "\n",
        "**Alumna**: Denise S. Cammarota"
      ]
    },
    {
      "cell_type": "markdown",
      "metadata": {
        "id": "CfJ2GCgllV2h"
      },
      "source": [
        "En este ejercicio, nos dan la siguiente tabla, y nos piden encontrar las condiciones para que corresponda a la matriz de payoff a un dilema del prisionero multijugador. Supondremos que tenemos $n$ jugadores, de los cuales $m$ colaboran, y $m-n-1$ no colaboran, con $m = 0,1,2,...,n-1$ \n",
        "\n",
        "\\begin{array}{|c|c|c|c|c|}\n",
        "\\hline\n",
        "    & 0     & 1     & 2     & ... & n-1     \\\\ \\hline\n",
        "C & C_{0} & C_{1} & C_{2} & ... & C_{n-1} \\\\ \\hline\n",
        "D & D_{0} & D_{1} & D_{2} & ... & D_{n-1} \\\\ \\hline\n",
        "\\end{array}\n",
        "\n",
        "La notación de $C$ y $D$ son las estrategias que puede tomar un jugador: cooperar (C) o traicionar (D). De esta manera, el coeficiente $C_{i}$ indicará el payoff que recibe el jugador si decide cooperar y $i$ personas cooperan también. En cambio, el coeficiente $D_{i}$ indica el payoff recibido si el jugador opta por traicionar y $i$ jugadores colaboran. Por ejemplo, $C_0$ indica el payoff si el sólo el jugador en cuestión colabora, $C_{n-1}$ es el payoff si todos colaboran, $D_{0}$ corresponde a si traiciona pero todo el resto de los jugadores colabora, y $D_{n-1}$ indica el payoff en una situación en la que ninguno coopera. "
      ]
    },
    {
      "cell_type": "markdown",
      "metadata": {
        "id": "Q1MEyLr2uU4F"
      },
      "source": [
        "- Como primer condición, la **estrategia dominante** para cada jugador debería de ser traicionar al resto. Es decir, independientemente de lo que los otros $n$ jugadores hagan, siempre le conviene optar por la estrategia $D$. Matemáticamente, esto se puede expresar con la condición: \n",
        "\n",
        "\\begin{align*}\n",
        "D_{i} > C_{i}, \\:\\:\\: \\forall \\:\\:  i = 0,1,2,...,n-1 \\tag{1}\n",
        "\\end{align*}\n",
        "\n",
        "- Segundo, sería razonable obtener un mejor payoff traicionando cuantas más personas colaboren, lo cual implica que los coeficientes $D_{i}$ son tales que:\n",
        "\n",
        "\\begin{align*}\n",
        "D_{n-1} > D_{n-2} > ... > D_{1} > D_{0} \\tag{2}\n",
        "\\end{align*}\n",
        "\n",
        "- Por otra parte, si se va a colaborar, el payoff que se obtiene debería ser mayor cuantos más jugadores colaboren. Con lo cual, una condición similar a la anterior debería valer para los coeficientes $C_{i}$:\n",
        "\n",
        "\\begin{align*}\n",
        "C_{n-1} > C_{n-2} > ... > C_{1} > C_{0} \\tag{3}\n",
        "\\end{align*}\n",
        "\n",
        "- Finalmente, si todos colaboran, les va mejor que si todos traicionan, es decir, el payoff resulta ser mayor. Esto se puede expresar pidiendo la siguiente condición matemática:\n",
        "\n",
        "\\begin{align*}\n",
        "C_{n-1} > D_{0} \\tag{4}\n",
        "\\end{align*}\n",
        "\n"
      ]
    }
  ]
}